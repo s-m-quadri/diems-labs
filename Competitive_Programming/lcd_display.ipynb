{
  "nbformat": 4,
  "nbformat_minor": 0,
  "metadata": {
    "colab": {
      "provenance": []
    },
    "kernelspec": {
      "name": "python3",
      "display_name": "Python 3"
    },
    "language_info": {
      "name": "python"
    }
  },
  "cells": [
    {
      "cell_type": "code",
      "source": [
        "#@title Requrements\n",
        "!python3 -m pip install pyfiglet"
      ],
      "metadata": {
        "colab": {
          "base_uri": "https://localhost:8080/"
        },
        "cellView": "form",
        "id": "KuoVbKcI2pil",
        "outputId": "dda814b7-1332-44ca-d750-fe598b2ab189"
      },
      "execution_count": 4,
      "outputs": [
        {
          "output_type": "stream",
          "name": "stdout",
          "text": [
            "Looking in indexes: https://pypi.org/simple, https://us-python.pkg.dev/colab-wheels/public/simple/\n",
            "Requirement already satisfied: pyfiglet in /usr/local/lib/python3.9/dist-packages (0.8.post1)\n"
          ]
        }
      ]
    },
    {
      "cell_type": "code",
      "execution_count": 5,
      "metadata": {
        "colab": {
          "base_uri": "https://localhost:8080/"
        },
        "cellView": "form",
        "id": "JvWeqOV8196R",
        "outputId": "5248defd-7ebb-49bc-9af1-199b585e3032"
      },
      "outputs": [
        {
          "output_type": "stream",
          "name": "stdout",
          "text": [
            "Enter a string: LCD Display\n",
            " _     ____ ____    ____  _           _             \n",
            "| |   / ___|  _ \\  |  _ \\(_)___ _ __ | | __ _ _   _ \n",
            "| |  | |   | | | | | | | | / __| '_ \\| |/ _` | | | |\n",
            "| |__| |___| |_| | | |_| | \\__ \\ |_) | | (_| | |_| |\n",
            "|_____\\____|____/  |____/|_|___/ .__/|_|\\__,_|\\__, |\n",
            "                               |_|            |___/ \n",
            "\n"
          ]
        }
      ],
      "source": [
        "#@title LCD Display\n",
        "\"\"\"\n",
        "-----------------------------------\n",
        "Weekly Assignment: 1\n",
        "Date: 18th March 2023                    \n",
        "-----------------------------------\n",
        ">\n",
        ">    $ python3 lcd_display.py\n",
        ">    Enter a string: LCD Display\n",
        ">     _     ____ ____    ____  _           _             \n",
        ">    | |   / ___|  _ \\  |  _ \\(_)___ _ __ | | __ _ _   _ \n",
        ">    | |  | |   | | | | | | | | / __| '_ \\| |/ _` | | | |\n",
        ">    | |__| |___| |_| | | |_| | \\__ \\ |_) | | (_| | |_| |\n",
        ">    |_____\\____|____/  |____/|_|___/ .__/|_|\\__,_|\\__, |\n",
        ">                                   |_|            |___/ \n",
        ">\n",
        "-----------------------------------\n",
        "GitHub: s-m-quadri\n",
        "Roll: B1/36112, Third Year (AY: 2020-24)\n",
        "B.Tech, Computer Science and Engineering\n",
        "\"\"\"\n",
        "\n",
        "\n",
        "import pyfiglet\n",
        "import re\n",
        "\n",
        "\n",
        "def main():\n",
        "    text = LCD_Display()\n",
        "    print(text)\n",
        "\n",
        "\n",
        "class LCD_Display:\n",
        "    def __init__(self, text: str = None) -> None:\n",
        "        self.text = self.get_text() if text == None else text\n",
        "\n",
        "    def __str__(self) -> str:\n",
        "        lcd_figlet = pyfiglet.Figlet(font=\"standard\")\n",
        "        return lcd_figlet.renderText(self.text)\n",
        "\n",
        "    def get_text(self):\n",
        "        while True:\n",
        "            try:\n",
        "                raw_text: str = input(\"Enter a string: \")\n",
        "                if text := re.search(r\"^([\\w\\s]+)$\", raw_text):\n",
        "                    text = text.group(1)\n",
        "                else:\n",
        "                    raise ValueError(\"Must be alpha numeric!\")\n",
        "                break\n",
        "            except ValueError as error:\n",
        "                print(error)\n",
        "                continue\n",
        "        return text\n",
        "\n",
        "\n",
        "if __name__ == \"__main__\":\n",
        "    main()\n"
      ]
    }
  ]
}